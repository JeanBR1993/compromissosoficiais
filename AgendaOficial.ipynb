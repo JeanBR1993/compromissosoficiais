{
 "cells": [
  {
   "cell_type": "code",
   "execution_count": 1,
   "id": "fe5e6ca9-d94c-47b6-a655-0a09cdb9eb8c",
   "metadata": {},
   "outputs": [],
   "source": [
    "%matplotlib widget"
   ]
  },
  {
   "cell_type": "code",
   "execution_count": 2,
   "id": "530b5980-198c-47f8-bf24-99765b5522d7",
   "metadata": {},
   "outputs": [],
   "source": [
    "import numpy as np\n",
    "import pandas as pd\n",
    "import matplotlib.pyplot as plt\n",
    "import html5lib\n",
    "from bs4 import BeautifulSoup\n",
    "import requests\n",
    "import datetime"
   ]
  },
  {
   "cell_type": "code",
   "execution_count": 3,
   "id": "618a3a72-f7b7-46da-a346-1034e6736317",
   "metadata": {},
   "outputs": [
    {
     "name": "stdout",
     "output_type": "stream",
     "text": [
      "True\n"
     ]
    }
   ],
   "source": [
    "diainicio = datetime.datetime(2019, 1, 1)\n",
    "diafinal = datetime.datetime(2022, 4, 19)\n",
    "print(diafinal > diainicio)"
   ]
  },
  {
   "cell_type": "code",
   "execution_count": 26,
   "id": "c887cab4-d4be-491a-a5e4-e2d1142f7612",
   "metadata": {},
   "outputs": [],
   "source": [
    "pagina = requests.get('https://www.gov.br/planalto/pt-br/acompanhe-o-planalto/agenda-do-presidente-da-republica/2019-04-07') \n",
    "soup = BeautifulSoup(pagina.text, 'html.parser')\n",
    "list1 = soup.find_all('time')\n",
    "list2 = soup.find_all('h2', {\"class\": \"compromisso-titulo\"})\n",
    "controle = soup.find_all('div', {\"class\": \"portalMessage info\"})"
   ]
  },
  {
   "cell_type": "code",
   "execution_count": 4,
   "id": "37081ffe-22d7-4689-b5e3-3c19ff667bc0",
   "metadata": {
    "tags": []
   },
   "outputs": [],
   "source": [
    "data = []\n",
    "horario = []\n",
    "descricao = []"
   ]
  },
  {
   "cell_type": "code",
   "execution_count": 5,
   "id": "bb7357ac-bfdc-4f2f-96e2-6b839e6a6891",
   "metadata": {
    "tags": []
   },
   "outputs": [],
   "source": [
    "#Loop Extrator\n",
    "while diainicio <= diafinal:\n",
    "    #preparo do scrapper    \n",
    "    url = 'https://www.gov.br/planalto/pt-br/acompanhe-o-planalto/agenda-do-presidente-da-republica/' + diainicio.strftime('%Y-%m-%d')\n",
    "    \n",
    "    #Controle de conexão\n",
    "    try:\n",
    "        pagina = requests.get(url) \n",
    "    except:\n",
    "        data.append(diainicio.strftime('%Y-%m-%d'))\n",
    "        horario.append('00h00/00h00')\n",
    "        descricao.append('Erro na conexão do scrapper')\n",
    "        diainicio += datetime.timedelta(days=1)\n",
    "        continue\n",
    "    \n",
    "    #conseguindo html\n",
    "    soup = BeautifulSoup(pagina.text, 'html.parser')\n",
    "    \n",
    "    #extraindo inicio e fim dos compromissos\n",
    "    inicio = soup.find_all('time', {\"class\": \"compromisso-inicio\"})\n",
    "    final = soup.find_all('time', {\"class\": \"compromisso-fim\"})\n",
    "    \n",
    "    #extraindo descrição\n",
    "    list2 = soup.find_all('h2', {\"class\": \"compromisso-titulo\"})\n",
    "    \n",
    "    #controle de inputs fora do padrão\n",
    "    controle = soup.find_all('div', {\"class\": \"portalMessage info\"})\n",
    "    \n",
    "    #controle de input fora do padrão + falta de descrição\n",
    "    if len(controle) > 0 and len(list2) == 0:\n",
    "        data.append(diainicio.strftime('%Y-%m-%d'))\n",
    "        horario.append('00h00/00h00')\n",
    "        descricao.append('Sem compromisso oficial')\n",
    "        diainicio += datetime.timedelta(days=1)\n",
    "        continue\n",
    "    else:\n",
    "        try:\n",
    "            if len(inicio) == 0 or len(final) == 0:\n",
    "                data.append(diainicio.strftime('%Y-%m-%d'))\n",
    "                horario.append('00h00/00h00')\n",
    "                descricao.append('Sem compromisso oficial')\n",
    "                diainicio += datetime.timedelta(days=1)\n",
    "                continue\n",
    "        except:\n",
    "            data.append(diainicio.strftime('%Y-%m-%d'))\n",
    "            horario.append('00h00/00h00')\n",
    "            descricao.append('Sem compromisso oficial')\n",
    "            diainicio += datetime.timedelta(days=1)\n",
    "            continue\n",
    "    \n",
    "    #controle de erros da extração de horários com a descrição\n",
    "    diferencadesc = []\n",
    "    if len(inicio) != len(list2) or len(final) != len(list2):\n",
    "        diferencadesc.append(diainicio.strftime('%Y-%m-%d'))\n",
    "        diainicio += datetime.timedelta(days=1)\n",
    "        continue\n",
    "    \n",
    "    #controle de erros da extração de horários de início e final\n",
    "    diferencatemp = []\n",
    "    #loop extrator horário\n",
    "    if len(inicio) == len(final):\n",
    "        for x in range(0 ,len(inicio)):\n",
    "            inifim = inicio[x].text + '/' + final[x].text\n",
    "            horario.append(inifim)\n",
    "    else:\n",
    "        diferencatemp.append(diainicio.strftime('%Y-%m-%d'))\n",
    "        diainicio += datetime.timedelta(days=1)\n",
    "        continue\n",
    "    \n",
    "    #loop extrator descrição\n",
    "    for x in range(len(list2)):\n",
    "        descricao.append(list2[x].text)\n",
    "    \n",
    "    #loop extrator data\n",
    "    for x in range(len(list2)):\n",
    "        data.append(diainicio.strftime('%Y-%m-%d'))\n",
    "    \n",
    "    #controle final do while loop\n",
    "    diainicio += datetime.timedelta(days=1)\n",
    "    "
   ]
  },
  {
   "cell_type": "code",
   "execution_count": 6,
   "id": "a9e24426-4791-46fc-b37f-4cc3bfee00cf",
   "metadata": {
    "tags": []
   },
   "outputs": [
    {
     "data": {
      "text/plain": [
       "['2022-04-19']"
      ]
     },
     "execution_count": 6,
     "metadata": {},
     "output_type": "execute_result"
    }
   ],
   "source": [
    "diferencadesc"
   ]
  },
  {
   "cell_type": "code",
   "execution_count": 7,
   "id": "7f50ebd6-027f-45dc-8ce2-ce3e11307ad4",
   "metadata": {},
   "outputs": [
    {
     "data": {
      "text/plain": [
       "[]"
      ]
     },
     "execution_count": 7,
     "metadata": {},
     "output_type": "execute_result"
    }
   ],
   "source": [
    "diferencatemp"
   ]
  },
  {
   "cell_type": "code",
   "execution_count": 8,
   "id": "0edcc3ad-5b5b-402e-a152-5a20dea28dc9",
   "metadata": {},
   "outputs": [
    {
     "data": {
      "text/plain": [
       "5647"
      ]
     },
     "execution_count": 8,
     "metadata": {},
     "output_type": "execute_result"
    }
   ],
   "source": [
    "len(data)"
   ]
  },
  {
   "cell_type": "code",
   "execution_count": 9,
   "id": "f42e0046-dd3f-412c-b7c6-d62fc4894cfe",
   "metadata": {},
   "outputs": [
    {
     "data": {
      "text/plain": [
       "'09h00/10h00'"
      ]
     },
     "execution_count": 9,
     "metadata": {},
     "output_type": "execute_result"
    }
   ],
   "source": [
    "horario[1]\n"
   ]
  },
  {
   "cell_type": "code",
   "execution_count": 10,
   "id": "4105635a-2df4-4789-affb-b1b9279c192d",
   "metadata": {},
   "outputs": [
    {
     "data": {
      "text/plain": [
       "5647"
      ]
     },
     "execution_count": 10,
     "metadata": {},
     "output_type": "execute_result"
    }
   ],
   "source": [
    "len(descricao)"
   ]
  },
  {
   "cell_type": "code",
   "execution_count": 11,
   "id": "1332e96a-daac-4773-971f-c856bbe51354",
   "metadata": {},
   "outputs": [
    {
     "data": {
      "text/plain": [
       "'2022-04-16'"
      ]
     },
     "execution_count": 11,
     "metadata": {},
     "output_type": "execute_result"
    }
   ],
   "source": [
    "data[5640]"
   ]
  },
  {
   "cell_type": "code",
   "execution_count": 12,
   "id": "2b41fd89-919d-438c-b484-4e58fb9889b4",
   "metadata": {},
   "outputs": [],
   "source": [
    "diainicio = datetime.datetime(2019, 1, 1)\n",
    "diafinal = datetime.datetime(2022, 4, 19)\n",
    "\n",
    "teste = []\n",
    "for element in data:\n",
    "    lista = element.split('-')\n",
    "    teste.append(datetime.datetime(int(lista[0]),int(lista[1]), int(lista[2])))"
   ]
  },
  {
   "cell_type": "code",
   "execution_count": 13,
   "id": "33094866-cc11-4c2a-9c58-260135440ce6",
   "metadata": {},
   "outputs": [],
   "source": [
    "datasnaopuxadas = []\n",
    "while diainicio <= diafinal:\n",
    "    if diainicio not in teste:\n",
    "        datasnaopuxadas.append(diainicio)\n",
    "    \n",
    "    diainicio += datetime.timedelta(days=1)"
   ]
  },
  {
   "cell_type": "code",
   "execution_count": 14,
   "id": "6b478d0e-e2c3-42ae-9a4d-ed4b1225ceab",
   "metadata": {
    "tags": []
   },
   "outputs": [
    {
     "data": {
      "text/plain": [
       "[datetime.datetime(2019, 1, 14, 0, 0),\n",
       " datetime.datetime(2019, 1, 20, 0, 0),\n",
       " datetime.datetime(2019, 1, 21, 0, 0),\n",
       " datetime.datetime(2019, 1, 24, 0, 0),\n",
       " datetime.datetime(2019, 1, 26, 0, 0),\n",
       " datetime.datetime(2019, 2, 26, 0, 0),\n",
       " datetime.datetime(2019, 3, 19, 0, 0),\n",
       " datetime.datetime(2019, 5, 14, 0, 0),\n",
       " datetime.datetime(2019, 5, 16, 0, 0),\n",
       " datetime.datetime(2019, 6, 6, 0, 0),\n",
       " datetime.datetime(2019, 6, 13, 0, 0),\n",
       " datetime.datetime(2019, 6, 15, 0, 0),\n",
       " datetime.datetime(2019, 6, 25, 0, 0),\n",
       " datetime.datetime(2019, 6, 27, 0, 0),\n",
       " datetime.datetime(2019, 6, 29, 0, 0),\n",
       " datetime.datetime(2019, 7, 9, 0, 0),\n",
       " datetime.datetime(2019, 8, 5, 0, 0),\n",
       " datetime.datetime(2019, 8, 6, 0, 0),\n",
       " datetime.datetime(2019, 9, 24, 0, 0),\n",
       " datetime.datetime(2019, 9, 25, 0, 0),\n",
       " datetime.datetime(2019, 10, 12, 0, 0),\n",
       " datetime.datetime(2019, 10, 20, 0, 0),\n",
       " datetime.datetime(2019, 10, 28, 0, 0),\n",
       " datetime.datetime(2019, 10, 30, 0, 0),\n",
       " datetime.datetime(2019, 11, 5, 0, 0),\n",
       " datetime.datetime(2020, 1, 23, 0, 0),\n",
       " datetime.datetime(2020, 3, 1, 0, 0),\n",
       " datetime.datetime(2020, 3, 10, 0, 0),\n",
       " datetime.datetime(2021, 5, 24, 0, 0),\n",
       " datetime.datetime(2021, 6, 18, 0, 0),\n",
       " datetime.datetime(2021, 9, 21, 0, 0),\n",
       " datetime.datetime(2021, 9, 22, 0, 0),\n",
       " datetime.datetime(2021, 10, 27, 0, 0),\n",
       " datetime.datetime(2021, 10, 28, 0, 0),\n",
       " datetime.datetime(2021, 11, 16, 0, 0),\n",
       " datetime.datetime(2022, 2, 14, 0, 0),\n",
       " datetime.datetime(2022, 2, 17, 0, 0),\n",
       " datetime.datetime(2022, 3, 18, 0, 0),\n",
       " datetime.datetime(2022, 4, 19, 0, 0)]"
      ]
     },
     "execution_count": 14,
     "metadata": {},
     "output_type": "execute_result"
    }
   ],
   "source": [
    "datasnaopuxadas"
   ]
  },
  {
   "cell_type": "code",
   "execution_count": 15,
   "id": "89919d4e-376b-421f-bb76-2a46634ed25d",
   "metadata": {},
   "outputs": [
    {
     "data": {
      "text/plain": [
       "39"
      ]
     },
     "execution_count": 15,
     "metadata": {},
     "output_type": "execute_result"
    }
   ],
   "source": [
    "len(datasnaopuxadas)"
   ]
  },
  {
   "cell_type": "code",
   "execution_count": 16,
   "id": "faa7072c-868e-4514-80d9-64739f790ba4",
   "metadata": {},
   "outputs": [],
   "source": [
    "#Estimativa de tempo gasto dia a dia de todas as datas não puxadas.\n",
    "horarioplus = ['03h25', '01h00', '07h30', '5h50', '01h35', '03h25', '06h10', '08h30', '05h10', '05h00', '06h00', '05h00', '06h00', '00h30', \n",
    "'06h00', '07h00', '05h00', '06h00', '02h00', '05h00', '04h00', '00h00', '06h00', '04h00', '04h00', '00h00', '04h00', '05h00', '04h30', '05h00', '04h00', \n",
    "'00h30', '04h00', '02h00', '04h00', '00h30', '04h00', '05h00', '04h00']"
   ]
  },
  {
   "cell_type": "code",
   "execution_count": 17,
   "id": "864fc2e7-a2f5-4f21-ab7c-8a9c82c372eb",
   "metadata": {},
   "outputs": [
    {
     "data": {
      "text/plain": [
       "39"
      ]
     },
     "execution_count": 17,
     "metadata": {},
     "output_type": "execute_result"
    }
   ],
   "source": [
    "len(horarioplus)"
   ]
  },
  {
   "cell_type": "code",
   "execution_count": 18,
   "id": "e69368b4-4b83-48c5-b0a6-c84cb2e29b49",
   "metadata": {},
   "outputs": [
    {
     "data": {
      "text/plain": [
       "datetime.datetime"
      ]
     },
     "execution_count": 18,
     "metadata": {},
     "output_type": "execute_result"
    }
   ],
   "source": [
    "type(datasnaopuxadas[0])"
   ]
  },
  {
   "cell_type": "code",
   "execution_count": 19,
   "id": "e33b9b1d-6fca-45ef-995a-70ac722b469a",
   "metadata": {},
   "outputs": [],
   "source": [
    "for x in range(len(datasnaopuxadas)):\n",
    "    data.append(datasnaopuxadas[x].strftime('%Y-%m-%d'))\n",
    "    horario.append('00h00/' + horarioplus[x])\n",
    "    descricao.append('-')"
   ]
  },
  {
   "cell_type": "code",
   "execution_count": 20,
   "id": "d14fb241-e6af-4b4b-bbe3-72cce274cba1",
   "metadata": {},
   "outputs": [
    {
     "data": {
      "text/plain": [
       "5686"
      ]
     },
     "execution_count": 20,
     "metadata": {},
     "output_type": "execute_result"
    }
   ],
   "source": [
    "len(data)"
   ]
  },
  {
   "cell_type": "code",
   "execution_count": 21,
   "id": "15375127-cf56-4cc6-98a0-32f457746722",
   "metadata": {},
   "outputs": [
    {
     "data": {
      "text/plain": [
       "5686"
      ]
     },
     "execution_count": 21,
     "metadata": {},
     "output_type": "execute_result"
    }
   ],
   "source": [
    "len(horario)"
   ]
  },
  {
   "cell_type": "code",
   "execution_count": 22,
   "id": "adf4d7a7-0429-497c-a9ed-eae7d2ca6f28",
   "metadata": {},
   "outputs": [
    {
     "data": {
      "text/plain": [
       "5686"
      ]
     },
     "execution_count": 22,
     "metadata": {},
     "output_type": "execute_result"
    }
   ],
   "source": [
    "len(descricao)"
   ]
  },
  {
   "cell_type": "code",
   "execution_count": 23,
   "id": "2017da02-33da-40ae-9b29-66909cef3e2d",
   "metadata": {},
   "outputs": [
    {
     "name": "stdout",
     "output_type": "stream",
     "text": [
      "-\n"
     ]
    }
   ],
   "source": [
    "print(descricao[5685])"
   ]
  },
  {
   "cell_type": "code",
   "execution_count": 24,
   "id": "8461e371-fe38-4f62-a1a9-6fcd5ead5b1e",
   "metadata": {},
   "outputs": [],
   "source": [
    "col = ['Data', 'Horario', 'Descrição']\n",
    "df = pd.DataFrame(columns=col)"
   ]
  },
  {
   "cell_type": "code",
   "execution_count": 25,
   "id": "57130b94-bbf5-4fcd-8a56-9ad581e27fac",
   "metadata": {},
   "outputs": [],
   "source": [
    "df['Data'] = data"
   ]
  },
  {
   "cell_type": "code",
   "execution_count": 26,
   "id": "61525d9d-57a3-437b-bd85-f18b28b003b6",
   "metadata": {},
   "outputs": [],
   "source": [
    "df['Horario'] = horario"
   ]
  },
  {
   "cell_type": "code",
   "execution_count": 27,
   "id": "4876f0e6-f113-4f5d-8df8-8a7b467fe525",
   "metadata": {},
   "outputs": [],
   "source": [
    "df['Descrição'] = descricao"
   ]
  },
  {
   "cell_type": "code",
   "execution_count": 28,
   "id": "2b365322-0790-416b-8bf2-f682d0705833",
   "metadata": {},
   "outputs": [
    {
     "data": {
      "text/html": [
       "<div>\n",
       "<style scoped>\n",
       "    .dataframe tbody tr th:only-of-type {\n",
       "        vertical-align: middle;\n",
       "    }\n",
       "\n",
       "    .dataframe tbody tr th {\n",
       "        vertical-align: top;\n",
       "    }\n",
       "\n",
       "    .dataframe thead th {\n",
       "        text-align: right;\n",
       "    }\n",
       "</style>\n",
       "<table border=\"1\" class=\"dataframe\">\n",
       "  <thead>\n",
       "    <tr style=\"text-align: right;\">\n",
       "      <th></th>\n",
       "      <th>Data</th>\n",
       "      <th>Horario</th>\n",
       "      <th>Descrição</th>\n",
       "    </tr>\n",
       "  </thead>\n",
       "  <tbody>\n",
       "    <tr>\n",
       "      <th>0</th>\n",
       "      <td>2019-01-01</td>\n",
       "      <td>15h00/18h00</td>\n",
       "      <td>Solenidade de Posse</td>\n",
       "    </tr>\n",
       "    <tr>\n",
       "      <th>1</th>\n",
       "      <td>2019-01-02</td>\n",
       "      <td>09h00/10h00</td>\n",
       "      <td>Cerimônia de transmissão do cargo de Ministro-...</td>\n",
       "    </tr>\n",
       "    <tr>\n",
       "      <th>2</th>\n",
       "      <td>2019-01-02</td>\n",
       "      <td>10h00/10h45</td>\n",
       "      <td>Mike Pompeo, Ministro das Relações Exteriores ...</td>\n",
       "    </tr>\n",
       "    <tr>\n",
       "      <th>3</th>\n",
       "      <td>2019-01-02</td>\n",
       "      <td>10h45/11h15</td>\n",
       "      <td>Marcelo Rebelo de Sousa, Presidente de Portugal</td>\n",
       "    </tr>\n",
       "    <tr>\n",
       "      <th>4</th>\n",
       "      <td>2019-01-02</td>\n",
       "      <td>11h15/12h00</td>\n",
       "      <td>Viktor Orban, Primeiro Ministro da Hungria</td>\n",
       "    </tr>\n",
       "    <tr>\n",
       "      <th>...</th>\n",
       "      <td>...</td>\n",
       "      <td>...</td>\n",
       "      <td>...</td>\n",
       "    </tr>\n",
       "    <tr>\n",
       "      <th>5681</th>\n",
       "      <td>2021-11-16</td>\n",
       "      <td>00h00/04h00</td>\n",
       "      <td>-</td>\n",
       "    </tr>\n",
       "    <tr>\n",
       "      <th>5682</th>\n",
       "      <td>2022-02-14</td>\n",
       "      <td>00h00/00h30</td>\n",
       "      <td>-</td>\n",
       "    </tr>\n",
       "    <tr>\n",
       "      <th>5683</th>\n",
       "      <td>2022-02-17</td>\n",
       "      <td>00h00/04h00</td>\n",
       "      <td>-</td>\n",
       "    </tr>\n",
       "    <tr>\n",
       "      <th>5684</th>\n",
       "      <td>2022-03-18</td>\n",
       "      <td>00h00/05h00</td>\n",
       "      <td>-</td>\n",
       "    </tr>\n",
       "    <tr>\n",
       "      <th>5685</th>\n",
       "      <td>2022-04-19</td>\n",
       "      <td>00h00/04h00</td>\n",
       "      <td>-</td>\n",
       "    </tr>\n",
       "  </tbody>\n",
       "</table>\n",
       "<p>5686 rows × 3 columns</p>\n",
       "</div>"
      ],
      "text/plain": [
       "            Data      Horario  \\\n",
       "0     2019-01-01  15h00/18h00   \n",
       "1     2019-01-02  09h00/10h00   \n",
       "2     2019-01-02  10h00/10h45   \n",
       "3     2019-01-02  10h45/11h15   \n",
       "4     2019-01-02  11h15/12h00   \n",
       "...          ...          ...   \n",
       "5681  2021-11-16  00h00/04h00   \n",
       "5682  2022-02-14  00h00/00h30   \n",
       "5683  2022-02-17  00h00/04h00   \n",
       "5684  2022-03-18  00h00/05h00   \n",
       "5685  2022-04-19  00h00/04h00   \n",
       "\n",
       "                                              Descrição  \n",
       "0                                   Solenidade de Posse  \n",
       "1     Cerimônia de transmissão do cargo de Ministro-...  \n",
       "2     Mike Pompeo, Ministro das Relações Exteriores ...  \n",
       "3       Marcelo Rebelo de Sousa, Presidente de Portugal  \n",
       "4            Viktor Orban, Primeiro Ministro da Hungria  \n",
       "...                                                 ...  \n",
       "5681                                                  -  \n",
       "5682                                                  -  \n",
       "5683                                                  -  \n",
       "5684                                                  -  \n",
       "5685                                                  -  \n",
       "\n",
       "[5686 rows x 3 columns]"
      ]
     },
     "execution_count": 28,
     "metadata": {},
     "output_type": "execute_result"
    }
   ],
   "source": [
    "df"
   ]
  },
  {
   "cell_type": "code",
   "execution_count": 29,
   "id": "1a9340ae-2f5d-4b8e-a30e-a186626c4a18",
   "metadata": {},
   "outputs": [
    {
     "data": {
      "text/html": [
       "<div>\n",
       "<style scoped>\n",
       "    .dataframe tbody tr th:only-of-type {\n",
       "        vertical-align: middle;\n",
       "    }\n",
       "\n",
       "    .dataframe tbody tr th {\n",
       "        vertical-align: top;\n",
       "    }\n",
       "\n",
       "    .dataframe thead th {\n",
       "        text-align: right;\n",
       "    }\n",
       "</style>\n",
       "<table border=\"1\" class=\"dataframe\">\n",
       "  <thead>\n",
       "    <tr style=\"text-align: right;\">\n",
       "      <th></th>\n",
       "      <th>Data</th>\n",
       "      <th>Horario</th>\n",
       "      <th>Descrição</th>\n",
       "    </tr>\n",
       "  </thead>\n",
       "  <tbody>\n",
       "  </tbody>\n",
       "</table>\n",
       "</div>"
      ],
      "text/plain": [
       "Empty DataFrame\n",
       "Columns: [Data, Horario, Descrição]\n",
       "Index: []"
      ]
     },
     "execution_count": 29,
     "metadata": {},
     "output_type": "execute_result"
    }
   ],
   "source": [
    "df[df['Descrição'] == 'Erro na conexão do scrapper']"
   ]
  },
  {
   "cell_type": "code",
   "execution_count": 35,
   "id": "78b1b46d-4e53-474d-81ed-f307a1fdb2bb",
   "metadata": {},
   "outputs": [
    {
     "data": {
      "text/html": [
       "<div>\n",
       "<style scoped>\n",
       "    .dataframe tbody tr th:only-of-type {\n",
       "        vertical-align: middle;\n",
       "    }\n",
       "\n",
       "    .dataframe tbody tr th {\n",
       "        vertical-align: top;\n",
       "    }\n",
       "\n",
       "    .dataframe thead th {\n",
       "        text-align: right;\n",
       "    }\n",
       "</style>\n",
       "<table border=\"1\" class=\"dataframe\">\n",
       "  <thead>\n",
       "    <tr style=\"text-align: right;\">\n",
       "      <th></th>\n",
       "      <th>Data</th>\n",
       "      <th>Horario</th>\n",
       "      <th>Descrição</th>\n",
       "    </tr>\n",
       "  </thead>\n",
       "  <tbody>\n",
       "    <tr>\n",
       "      <th>4297</th>\n",
       "      <td>2021-05-01</td>\n",
       "      <td>00h00/00h00</td>\n",
       "      <td>Sem compromisso oficial</td>\n",
       "    </tr>\n",
       "  </tbody>\n",
       "</table>\n",
       "</div>"
      ],
      "text/plain": [
       "            Data      Horario                Descrição\n",
       "4297  2021-05-01  00h00/00h00  Sem compromisso oficial"
      ]
     },
     "execution_count": 35,
     "metadata": {},
     "output_type": "execute_result"
    }
   ],
   "source": [
    "df[df['Data'] == '2021-05-01']"
   ]
  },
  {
   "cell_type": "code",
   "execution_count": 48,
   "id": "bda2c29b-c5f9-4981-b1f0-0ecde7a9a67e",
   "metadata": {},
   "outputs": [],
   "source": [
    "def diff(string):\n",
    "    list = string.split('/')\n",
    "    timea = datetime.datetime.strptime(list[0], '%Hh%M')\n",
    "    timeb = datetime.datetime.strptime(list[1], '%Hh%M')\n",
    "    return (timeb-timea).total_seconds() / 60"
   ]
  },
  {
   "cell_type": "code",
   "execution_count": 49,
   "id": "01848e7e-c976-4eed-968a-c68cc5a4b2eb",
   "metadata": {},
   "outputs": [],
   "source": [
    "df['Minutos trabalhados'] = df['Horario'].apply(lambda x: diff(x))"
   ]
  },
  {
   "cell_type": "code",
   "execution_count": 50,
   "id": "718acf46-26c2-4fcf-a143-0f009cfa69ac",
   "metadata": {},
   "outputs": [
    {
     "data": {
      "text/html": [
       "<div>\n",
       "<style scoped>\n",
       "    .dataframe tbody tr th:only-of-type {\n",
       "        vertical-align: middle;\n",
       "    }\n",
       "\n",
       "    .dataframe tbody tr th {\n",
       "        vertical-align: top;\n",
       "    }\n",
       "\n",
       "    .dataframe thead th {\n",
       "        text-align: right;\n",
       "    }\n",
       "</style>\n",
       "<table border=\"1\" class=\"dataframe\">\n",
       "  <thead>\n",
       "    <tr style=\"text-align: right;\">\n",
       "      <th></th>\n",
       "      <th>Data</th>\n",
       "      <th>Horario</th>\n",
       "      <th>Descrição</th>\n",
       "      <th>Minutos trabalhados</th>\n",
       "    </tr>\n",
       "  </thead>\n",
       "  <tbody>\n",
       "    <tr>\n",
       "      <th>0</th>\n",
       "      <td>2019-01-01</td>\n",
       "      <td>15h00/18h00</td>\n",
       "      <td>Solenidade de Posse</td>\n",
       "      <td>180.0</td>\n",
       "    </tr>\n",
       "    <tr>\n",
       "      <th>1</th>\n",
       "      <td>2019-01-02</td>\n",
       "      <td>09h00/10h00</td>\n",
       "      <td>Cerimônia de transmissão do cargo de Ministro-...</td>\n",
       "      <td>60.0</td>\n",
       "    </tr>\n",
       "    <tr>\n",
       "      <th>2</th>\n",
       "      <td>2019-01-02</td>\n",
       "      <td>10h00/10h45</td>\n",
       "      <td>Mike Pompeo, Ministro das Relações Exteriores ...</td>\n",
       "      <td>45.0</td>\n",
       "    </tr>\n",
       "    <tr>\n",
       "      <th>3</th>\n",
       "      <td>2019-01-02</td>\n",
       "      <td>10h45/11h15</td>\n",
       "      <td>Marcelo Rebelo de Sousa, Presidente de Portugal</td>\n",
       "      <td>30.0</td>\n",
       "    </tr>\n",
       "    <tr>\n",
       "      <th>4</th>\n",
       "      <td>2019-01-02</td>\n",
       "      <td>11h15/12h00</td>\n",
       "      <td>Viktor Orban, Primeiro Ministro da Hungria</td>\n",
       "      <td>45.0</td>\n",
       "    </tr>\n",
       "    <tr>\n",
       "      <th>...</th>\n",
       "      <td>...</td>\n",
       "      <td>...</td>\n",
       "      <td>...</td>\n",
       "      <td>...</td>\n",
       "    </tr>\n",
       "    <tr>\n",
       "      <th>5681</th>\n",
       "      <td>2021-11-16</td>\n",
       "      <td>00h00/04h00</td>\n",
       "      <td>-</td>\n",
       "      <td>240.0</td>\n",
       "    </tr>\n",
       "    <tr>\n",
       "      <th>5682</th>\n",
       "      <td>2022-02-14</td>\n",
       "      <td>00h00/00h30</td>\n",
       "      <td>-</td>\n",
       "      <td>30.0</td>\n",
       "    </tr>\n",
       "    <tr>\n",
       "      <th>5683</th>\n",
       "      <td>2022-02-17</td>\n",
       "      <td>00h00/04h00</td>\n",
       "      <td>-</td>\n",
       "      <td>240.0</td>\n",
       "    </tr>\n",
       "    <tr>\n",
       "      <th>5684</th>\n",
       "      <td>2022-03-18</td>\n",
       "      <td>00h00/05h00</td>\n",
       "      <td>-</td>\n",
       "      <td>300.0</td>\n",
       "    </tr>\n",
       "    <tr>\n",
       "      <th>5685</th>\n",
       "      <td>2022-04-19</td>\n",
       "      <td>00h00/04h00</td>\n",
       "      <td>-</td>\n",
       "      <td>240.0</td>\n",
       "    </tr>\n",
       "  </tbody>\n",
       "</table>\n",
       "<p>5686 rows × 4 columns</p>\n",
       "</div>"
      ],
      "text/plain": [
       "            Data      Horario  \\\n",
       "0     2019-01-01  15h00/18h00   \n",
       "1     2019-01-02  09h00/10h00   \n",
       "2     2019-01-02  10h00/10h45   \n",
       "3     2019-01-02  10h45/11h15   \n",
       "4     2019-01-02  11h15/12h00   \n",
       "...          ...          ...   \n",
       "5681  2021-11-16  00h00/04h00   \n",
       "5682  2022-02-14  00h00/00h30   \n",
       "5683  2022-02-17  00h00/04h00   \n",
       "5684  2022-03-18  00h00/05h00   \n",
       "5685  2022-04-19  00h00/04h00   \n",
       "\n",
       "                                              Descrição  Minutos trabalhados  \n",
       "0                                   Solenidade de Posse                180.0  \n",
       "1     Cerimônia de transmissão do cargo de Ministro-...                 60.0  \n",
       "2     Mike Pompeo, Ministro das Relações Exteriores ...                 45.0  \n",
       "3       Marcelo Rebelo de Sousa, Presidente de Portugal                 30.0  \n",
       "4            Viktor Orban, Primeiro Ministro da Hungria                 45.0  \n",
       "...                                                 ...                  ...  \n",
       "5681                                                  -                240.0  \n",
       "5682                                                  -                 30.0  \n",
       "5683                                                  -                240.0  \n",
       "5684                                                  -                300.0  \n",
       "5685                                                  -                240.0  \n",
       "\n",
       "[5686 rows x 4 columns]"
      ]
     },
     "execution_count": 50,
     "metadata": {},
     "output_type": "execute_result"
    }
   ],
   "source": [
    "df"
   ]
  },
  {
   "cell_type": "code",
   "execution_count": 51,
   "id": "8f0096fc-08e5-43ec-8fc1-275d9f1c2474",
   "metadata": {},
   "outputs": [
    {
     "data": {
      "text/html": [
       "<div>\n",
       "<style scoped>\n",
       "    .dataframe tbody tr th:only-of-type {\n",
       "        vertical-align: middle;\n",
       "    }\n",
       "\n",
       "    .dataframe tbody tr th {\n",
       "        vertical-align: top;\n",
       "    }\n",
       "\n",
       "    .dataframe thead th {\n",
       "        text-align: right;\n",
       "    }\n",
       "</style>\n",
       "<table border=\"1\" class=\"dataframe\">\n",
       "  <thead>\n",
       "    <tr style=\"text-align: right;\">\n",
       "      <th></th>\n",
       "      <th>Data</th>\n",
       "      <th>Horario</th>\n",
       "      <th>Descrição</th>\n",
       "      <th>Minutos trabalhados</th>\n",
       "    </tr>\n",
       "  </thead>\n",
       "  <tbody>\n",
       "    <tr>\n",
       "      <th>4297</th>\n",
       "      <td>2021-05-01</td>\n",
       "      <td>00h00/00h00</td>\n",
       "      <td>Sem compromisso oficial</td>\n",
       "      <td>0.0</td>\n",
       "    </tr>\n",
       "  </tbody>\n",
       "</table>\n",
       "</div>"
      ],
      "text/plain": [
       "            Data      Horario                Descrição  Minutos trabalhados\n",
       "4297  2021-05-01  00h00/00h00  Sem compromisso oficial                  0.0"
      ]
     },
     "execution_count": 51,
     "metadata": {},
     "output_type": "execute_result"
    }
   ],
   "source": [
    "df[df['Data'] == '2021-05-01'] "
   ]
  },
  {
   "cell_type": "code",
   "execution_count": 68,
   "id": "07cbd76e-c0e9-4b75-9dcf-5b8b56ab03be",
   "metadata": {},
   "outputs": [],
   "source": [
    "teste = datetime.datetime(2022, 4, 22)"
   ]
  },
  {
   "cell_type": "code",
   "execution_count": 71,
   "id": "8748a215-d04a-4a4f-9229-1e4c58c0a32a",
   "metadata": {},
   "outputs": [
    {
     "data": {
      "text/plain": [
       "'Friday'"
      ]
     },
     "execution_count": 71,
     "metadata": {},
     "output_type": "execute_result"
    }
   ],
   "source": [
    "teste.strftime('%A')"
   ]
  },
  {
   "cell_type": "code",
   "execution_count": 74,
   "id": "124c0fcc-8227-485d-ae77-9fb6748c6ff0",
   "metadata": {},
   "outputs": [],
   "source": [
    "def sabado(string):\n",
    "    dia = datetime.datetime.strptime(string, '%Y-%m-%d')\n",
    "    return True if dia.strftime('%A') == 'Saturday' else False\n",
    "def domingo(string):\n",
    "    dia = datetime.datetime.strptime(string, '%Y-%m-%d')\n",
    "    return True if dia.strftime('%A') == 'Sunday' else False"
   ]
  },
  {
   "cell_type": "code",
   "execution_count": 75,
   "id": "ce3c4c53-9074-444d-8e42-a337cec430a0",
   "metadata": {},
   "outputs": [],
   "source": [
    "df['Sábado?'] = df['Data'].apply(lambda x: sabado(x))\n",
    "df['Domingo?'] = df['Data'].apply(lambda x: domingo(x))"
   ]
  },
  {
   "cell_type": "code",
   "execution_count": 76,
   "id": "9430d0ff-40e5-4899-8bcd-ecdf7e2ae33f",
   "metadata": {},
   "outputs": [
    {
     "data": {
      "text/html": [
       "<div>\n",
       "<style scoped>\n",
       "    .dataframe tbody tr th:only-of-type {\n",
       "        vertical-align: middle;\n",
       "    }\n",
       "\n",
       "    .dataframe tbody tr th {\n",
       "        vertical-align: top;\n",
       "    }\n",
       "\n",
       "    .dataframe thead th {\n",
       "        text-align: right;\n",
       "    }\n",
       "</style>\n",
       "<table border=\"1\" class=\"dataframe\">\n",
       "  <thead>\n",
       "    <tr style=\"text-align: right;\">\n",
       "      <th></th>\n",
       "      <th>Data</th>\n",
       "      <th>Horario</th>\n",
       "      <th>Descrição</th>\n",
       "      <th>Minutos trabalhados</th>\n",
       "      <th>Sábado?</th>\n",
       "      <th>Domingo?</th>\n",
       "    </tr>\n",
       "  </thead>\n",
       "  <tbody>\n",
       "    <tr>\n",
       "      <th>0</th>\n",
       "      <td>2019-01-01</td>\n",
       "      <td>15h00/18h00</td>\n",
       "      <td>Solenidade de Posse</td>\n",
       "      <td>180.0</td>\n",
       "      <td>False</td>\n",
       "      <td>False</td>\n",
       "    </tr>\n",
       "    <tr>\n",
       "      <th>1</th>\n",
       "      <td>2019-01-02</td>\n",
       "      <td>09h00/10h00</td>\n",
       "      <td>Cerimônia de transmissão do cargo de Ministro-...</td>\n",
       "      <td>60.0</td>\n",
       "      <td>False</td>\n",
       "      <td>False</td>\n",
       "    </tr>\n",
       "    <tr>\n",
       "      <th>2</th>\n",
       "      <td>2019-01-02</td>\n",
       "      <td>10h00/10h45</td>\n",
       "      <td>Mike Pompeo, Ministro das Relações Exteriores ...</td>\n",
       "      <td>45.0</td>\n",
       "      <td>False</td>\n",
       "      <td>False</td>\n",
       "    </tr>\n",
       "    <tr>\n",
       "      <th>3</th>\n",
       "      <td>2019-01-02</td>\n",
       "      <td>10h45/11h15</td>\n",
       "      <td>Marcelo Rebelo de Sousa, Presidente de Portugal</td>\n",
       "      <td>30.0</td>\n",
       "      <td>False</td>\n",
       "      <td>False</td>\n",
       "    </tr>\n",
       "    <tr>\n",
       "      <th>4</th>\n",
       "      <td>2019-01-02</td>\n",
       "      <td>11h15/12h00</td>\n",
       "      <td>Viktor Orban, Primeiro Ministro da Hungria</td>\n",
       "      <td>45.0</td>\n",
       "      <td>False</td>\n",
       "      <td>False</td>\n",
       "    </tr>\n",
       "    <tr>\n",
       "      <th>...</th>\n",
       "      <td>...</td>\n",
       "      <td>...</td>\n",
       "      <td>...</td>\n",
       "      <td>...</td>\n",
       "      <td>...</td>\n",
       "      <td>...</td>\n",
       "    </tr>\n",
       "    <tr>\n",
       "      <th>5681</th>\n",
       "      <td>2021-11-16</td>\n",
       "      <td>00h00/04h00</td>\n",
       "      <td>-</td>\n",
       "      <td>240.0</td>\n",
       "      <td>False</td>\n",
       "      <td>False</td>\n",
       "    </tr>\n",
       "    <tr>\n",
       "      <th>5682</th>\n",
       "      <td>2022-02-14</td>\n",
       "      <td>00h00/00h30</td>\n",
       "      <td>-</td>\n",
       "      <td>30.0</td>\n",
       "      <td>False</td>\n",
       "      <td>False</td>\n",
       "    </tr>\n",
       "    <tr>\n",
       "      <th>5683</th>\n",
       "      <td>2022-02-17</td>\n",
       "      <td>00h00/04h00</td>\n",
       "      <td>-</td>\n",
       "      <td>240.0</td>\n",
       "      <td>False</td>\n",
       "      <td>False</td>\n",
       "    </tr>\n",
       "    <tr>\n",
       "      <th>5684</th>\n",
       "      <td>2022-03-18</td>\n",
       "      <td>00h00/05h00</td>\n",
       "      <td>-</td>\n",
       "      <td>300.0</td>\n",
       "      <td>False</td>\n",
       "      <td>False</td>\n",
       "    </tr>\n",
       "    <tr>\n",
       "      <th>5685</th>\n",
       "      <td>2022-04-19</td>\n",
       "      <td>00h00/04h00</td>\n",
       "      <td>-</td>\n",
       "      <td>240.0</td>\n",
       "      <td>False</td>\n",
       "      <td>False</td>\n",
       "    </tr>\n",
       "  </tbody>\n",
       "</table>\n",
       "<p>5686 rows × 6 columns</p>\n",
       "</div>"
      ],
      "text/plain": [
       "            Data      Horario  \\\n",
       "0     2019-01-01  15h00/18h00   \n",
       "1     2019-01-02  09h00/10h00   \n",
       "2     2019-01-02  10h00/10h45   \n",
       "3     2019-01-02  10h45/11h15   \n",
       "4     2019-01-02  11h15/12h00   \n",
       "...          ...          ...   \n",
       "5681  2021-11-16  00h00/04h00   \n",
       "5682  2022-02-14  00h00/00h30   \n",
       "5683  2022-02-17  00h00/04h00   \n",
       "5684  2022-03-18  00h00/05h00   \n",
       "5685  2022-04-19  00h00/04h00   \n",
       "\n",
       "                                              Descrição  Minutos trabalhados  \\\n",
       "0                                   Solenidade de Posse                180.0   \n",
       "1     Cerimônia de transmissão do cargo de Ministro-...                 60.0   \n",
       "2     Mike Pompeo, Ministro das Relações Exteriores ...                 45.0   \n",
       "3       Marcelo Rebelo de Sousa, Presidente de Portugal                 30.0   \n",
       "4            Viktor Orban, Primeiro Ministro da Hungria                 45.0   \n",
       "...                                                 ...                  ...   \n",
       "5681                                                  -                240.0   \n",
       "5682                                                  -                 30.0   \n",
       "5683                                                  -                240.0   \n",
       "5684                                                  -                300.0   \n",
       "5685                                                  -                240.0   \n",
       "\n",
       "      Sábado?  Domingo?  \n",
       "0       False     False  \n",
       "1       False     False  \n",
       "2       False     False  \n",
       "3       False     False  \n",
       "4       False     False  \n",
       "...       ...       ...  \n",
       "5681    False     False  \n",
       "5682    False     False  \n",
       "5683    False     False  \n",
       "5684    False     False  \n",
       "5685    False     False  \n",
       "\n",
       "[5686 rows x 6 columns]"
      ]
     },
     "execution_count": 76,
     "metadata": {},
     "output_type": "execute_result"
    }
   ],
   "source": [
    "df"
   ]
  },
  {
   "cell_type": "code",
   "execution_count": 77,
   "id": "f8ecb342-2456-457a-9058-f17ee31df5b0",
   "metadata": {},
   "outputs": [
    {
     "data": {
      "text/html": [
       "<div>\n",
       "<style scoped>\n",
       "    .dataframe tbody tr th:only-of-type {\n",
       "        vertical-align: middle;\n",
       "    }\n",
       "\n",
       "    .dataframe tbody tr th {\n",
       "        vertical-align: top;\n",
       "    }\n",
       "\n",
       "    .dataframe thead th {\n",
       "        text-align: right;\n",
       "    }\n",
       "</style>\n",
       "<table border=\"1\" class=\"dataframe\">\n",
       "  <thead>\n",
       "    <tr style=\"text-align: right;\">\n",
       "      <th></th>\n",
       "      <th>Data</th>\n",
       "      <th>Horario</th>\n",
       "      <th>Descrição</th>\n",
       "      <th>Minutos trabalhados</th>\n",
       "      <th>Sábado?</th>\n",
       "      <th>Domingo?</th>\n",
       "    </tr>\n",
       "  </thead>\n",
       "  <tbody>\n",
       "    <tr>\n",
       "      <th>5640</th>\n",
       "      <td>2022-04-16</td>\n",
       "      <td>00h00/00h00</td>\n",
       "      <td>Sem compromisso oficial</td>\n",
       "      <td>0.0</td>\n",
       "      <td>True</td>\n",
       "      <td>False</td>\n",
       "    </tr>\n",
       "  </tbody>\n",
       "</table>\n",
       "</div>"
      ],
      "text/plain": [
       "            Data      Horario                Descrição  Minutos trabalhados  \\\n",
       "5640  2022-04-16  00h00/00h00  Sem compromisso oficial                  0.0   \n",
       "\n",
       "      Sábado?  Domingo?  \n",
       "5640     True     False  "
      ]
     },
     "execution_count": 77,
     "metadata": {},
     "output_type": "execute_result"
    }
   ],
   "source": [
    "df[df['Data'] == '2022-04-16']"
   ]
  },
  {
   "cell_type": "code",
   "execution_count": 78,
   "id": "9f02df84-8723-4677-962b-92d188aab78a",
   "metadata": {},
   "outputs": [
    {
     "data": {
      "text/html": [
       "<div>\n",
       "<style scoped>\n",
       "    .dataframe tbody tr th:only-of-type {\n",
       "        vertical-align: middle;\n",
       "    }\n",
       "\n",
       "    .dataframe tbody tr th {\n",
       "        vertical-align: top;\n",
       "    }\n",
       "\n",
       "    .dataframe thead th {\n",
       "        text-align: right;\n",
       "    }\n",
       "</style>\n",
       "<table border=\"1\" class=\"dataframe\">\n",
       "  <thead>\n",
       "    <tr style=\"text-align: right;\">\n",
       "      <th></th>\n",
       "      <th>Data</th>\n",
       "      <th>Horario</th>\n",
       "      <th>Descrição</th>\n",
       "      <th>Minutos trabalhados</th>\n",
       "      <th>Sábado?</th>\n",
       "      <th>Domingo?</th>\n",
       "    </tr>\n",
       "  </thead>\n",
       "  <tbody>\n",
       "    <tr>\n",
       "      <th>5641</th>\n",
       "      <td>2022-04-17</td>\n",
       "      <td>00h00/00h00</td>\n",
       "      <td>Sem compromisso oficial</td>\n",
       "      <td>0.0</td>\n",
       "      <td>False</td>\n",
       "      <td>True</td>\n",
       "    </tr>\n",
       "  </tbody>\n",
       "</table>\n",
       "</div>"
      ],
      "text/plain": [
       "            Data      Horario                Descrição  Minutos trabalhados  \\\n",
       "5641  2022-04-17  00h00/00h00  Sem compromisso oficial                  0.0   \n",
       "\n",
       "      Sábado?  Domingo?  \n",
       "5641    False      True  "
      ]
     },
     "execution_count": 78,
     "metadata": {},
     "output_type": "execute_result"
    }
   ],
   "source": [
    "df[df['Data'] == '2022-04-17'] "
   ]
  },
  {
   "cell_type": "code",
   "execution_count": 83,
   "id": "9174a7e7-45e7-4b7d-9a53-e91a9f9f1423",
   "metadata": {},
   "outputs": [],
   "source": [
    "somadias = df.groupby('Data')['Minutos trabalhados'].sum()\n",
    "somasemdomingo = df[df['Domingo?'] == False].groupby('Data')['Minutos trabalhados'].sum()\n",
    "somasemsabdom = df[(df['Domingo?'] == False) & (df['Sábado?'] == False)].groupby('Data')['Minutos trabalhados'].sum()"
   ]
  },
  {
   "cell_type": "code",
   "execution_count": 90,
   "id": "d6d30277-62b2-45a3-932f-84e7469c0ded",
   "metadata": {},
   "outputs": [
    {
     "data": {
      "text/plain": [
       "Data\n",
       "2019-01-01    180.0\n",
       "2019-01-02    255.0\n",
       "2019-01-03    370.0\n",
       "2019-01-04    300.0\n",
       "2019-01-07    430.0\n",
       "              ...  \n",
       "2022-04-13    135.0\n",
       "2022-04-14    260.0\n",
       "2022-04-15      0.0\n",
       "2022-04-18    180.0\n",
       "2022-04-19    240.0\n",
       "Name: Minutos trabalhados, Length: 861, dtype: float64"
      ]
     },
     "execution_count": 90,
     "metadata": {},
     "output_type": "execute_result"
    }
   ],
   "source": [
    "somasemsabdom"
   ]
  },
  {
   "cell_type": "code",
   "execution_count": 91,
   "id": "fa54dff1-cded-4d4d-ba89-d8f2e609f568",
   "metadata": {},
   "outputs": [],
   "source": [
    "mediatotal = somadias.sum() / len(somadias)\n",
    "mediasemdomingo = somasemdomingo.sum() / len(somasemdomingo)\n",
    "mediasemsabdom = somasemsabdom.sum() / len(somasemsabdom)"
   ]
  },
  {
   "cell_type": "code",
   "execution_count": 92,
   "id": "42a4d6af-b6b2-4d53-85ca-5638fdb8180c",
   "metadata": {},
   "outputs": [
    {
     "data": {
      "text/plain": [
       "222.00995850622408"
      ]
     },
     "execution_count": 92,
     "metadata": {},
     "output_type": "execute_result"
    }
   ],
   "source": [
    "mediatotal"
   ]
  },
  {
   "cell_type": "code",
   "execution_count": 93,
   "id": "721d0c55-2484-4181-905a-2b179a23fc66",
   "metadata": {},
   "outputs": [
    {
     "data": {
      "text/plain": [
       "251.5217812197483"
      ]
     },
     "execution_count": 93,
     "metadata": {},
     "output_type": "execute_result"
    }
   ],
   "source": [
    "mediasemdomingo"
   ]
  },
  {
   "cell_type": "code",
   "execution_count": 94,
   "id": "df6ebd92-1750-4637-8f21-62679ab22373",
   "metadata": {},
   "outputs": [
    {
     "data": {
      "text/plain": [
       "285.79442508710804"
      ]
     },
     "execution_count": 94,
     "metadata": {},
     "output_type": "execute_result"
    }
   ],
   "source": [
    "mediasemsabdom"
   ]
  },
  {
   "cell_type": "code",
   "execution_count": 100,
   "id": "af99232b-d28e-4402-884f-7d0c9f8bafb1",
   "metadata": {},
   "outputs": [],
   "source": [
    "d = {'Media com todos dias da semana': [mediatotal],\n",
    "      'Media sem contabilizar domingo': [mediasemdomingo],\n",
    "      'Media sem contabilizar sábado e domingo': [mediasemsabdom]}\n",
    "\n",
    "dfmedia = pd.DataFrame(data=d)"
   ]
  },
  {
   "cell_type": "code",
   "execution_count": 101,
   "id": "c3767279-cfb5-4a60-97a5-1bd75916bbb5",
   "metadata": {},
   "outputs": [
    {
     "data": {
      "text/html": [
       "<div>\n",
       "<style scoped>\n",
       "    .dataframe tbody tr th:only-of-type {\n",
       "        vertical-align: middle;\n",
       "    }\n",
       "\n",
       "    .dataframe tbody tr th {\n",
       "        vertical-align: top;\n",
       "    }\n",
       "\n",
       "    .dataframe thead th {\n",
       "        text-align: right;\n",
       "    }\n",
       "</style>\n",
       "<table border=\"1\" class=\"dataframe\">\n",
       "  <thead>\n",
       "    <tr style=\"text-align: right;\">\n",
       "      <th></th>\n",
       "      <th>Media com todos dias da semana</th>\n",
       "      <th>Media sem contabilizar domingo</th>\n",
       "      <th>Media sem contabilizar sábado e domingo</th>\n",
       "    </tr>\n",
       "  </thead>\n",
       "  <tbody>\n",
       "    <tr>\n",
       "      <th>0</th>\n",
       "      <td>222.009959</td>\n",
       "      <td>251.521781</td>\n",
       "      <td>285.794425</td>\n",
       "    </tr>\n",
       "  </tbody>\n",
       "</table>\n",
       "</div>"
      ],
      "text/plain": [
       "   Media com todos dias da semana  Media sem contabilizar domingo  \\\n",
       "0                      222.009959                      251.521781   \n",
       "\n",
       "   Media sem contabilizar sábado e domingo  \n",
       "0                               285.794425  "
      ]
     },
     "execution_count": 101,
     "metadata": {},
     "output_type": "execute_result"
    }
   ],
   "source": [
    "dfmedia"
   ]
  },
  {
   "cell_type": "code",
   "execution_count": 107,
   "id": "b31267ec-8f51-442a-9572-52fb768dbcd6",
   "metadata": {},
   "outputs": [],
   "source": [
    "dfmedia = dfmedia.transpose()"
   ]
  },
  {
   "cell_type": "code",
   "execution_count": 115,
   "id": "4bd840b7-4e86-4bf2-8c97-bc30d19b0538",
   "metadata": {},
   "outputs": [],
   "source": [
    "dfmedia.rename(columns={0:'Média de minutos diários'}, inplace=True)"
   ]
  },
  {
   "cell_type": "code",
   "execution_count": 116,
   "id": "b337dcb7-f962-4c52-a88d-2bea4ae6139c",
   "metadata": {},
   "outputs": [
    {
     "data": {
      "text/html": [
       "<div>\n",
       "<style scoped>\n",
       "    .dataframe tbody tr th:only-of-type {\n",
       "        vertical-align: middle;\n",
       "    }\n",
       "\n",
       "    .dataframe tbody tr th {\n",
       "        vertical-align: top;\n",
       "    }\n",
       "\n",
       "    .dataframe thead th {\n",
       "        text-align: right;\n",
       "    }\n",
       "</style>\n",
       "<table border=\"1\" class=\"dataframe\">\n",
       "  <thead>\n",
       "    <tr style=\"text-align: right;\">\n",
       "      <th></th>\n",
       "      <th>Média de minutos diários</th>\n",
       "    </tr>\n",
       "  </thead>\n",
       "  <tbody>\n",
       "    <tr>\n",
       "      <th>Media com todos dias da semana</th>\n",
       "      <td>222.009959</td>\n",
       "    </tr>\n",
       "    <tr>\n",
       "      <th>Media sem contabilizar domingo</th>\n",
       "      <td>251.521781</td>\n",
       "    </tr>\n",
       "    <tr>\n",
       "      <th>Media sem contabilizar sábado e domingo</th>\n",
       "      <td>285.794425</td>\n",
       "    </tr>\n",
       "  </tbody>\n",
       "</table>\n",
       "</div>"
      ],
      "text/plain": [
       "                                         Média de minutos diários\n",
       "Media com todos dias da semana                         222.009959\n",
       "Media sem contabilizar domingo                         251.521781\n",
       "Media sem contabilizar sábado e domingo                285.794425"
      ]
     },
     "execution_count": 116,
     "metadata": {},
     "output_type": "execute_result"
    }
   ],
   "source": [
    "dfmedia"
   ]
  },
  {
   "cell_type": "code",
   "execution_count": 118,
   "id": "57aa1f35-361b-4243-9595-0676bd4541e7",
   "metadata": {},
   "outputs": [
    {
     "data": {
      "application/vnd.jupyter.widget-view+json": {
       "model_id": "bb4e1b2ca07641c88c156b935c3b19f5",
       "version_major": 2,
       "version_minor": 0
      },
      "image/png": "[encoded data removed]",
      "text/html": [
       "\n",
       "            <div style=\"display: inline-block;\">\n",
       "                <div class=\"jupyter-widgets widget-label\" style=\"text-align: center;\">\n",
       "                    Figure\n",
       "                </div>\n",
       "                <img src='data:image/png;base64,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' width=640.0/>\n",
       "            </div>\n",
       "        "
      ],
      "text/plain": [
       "Canvas(toolbar=Toolbar(toolitems=[('Home', 'Reset original view', 'home', 'home'), ('Back', 'Back to previous …"
      ]
     },
     "metadata": {},
     "output_type": "display_data"
    }
   ],
   "source": [
    "fig, ax = plt.subplots()"
   ]
  },
  {
   "cell_type": "code",
   "execution_count": 119,
   "id": "544af16d-c26c-414d-919d-fda37e923baf",
   "metadata": {},
   "outputs": [
    {
     "data": {
      "text/plain": [
       "<AxesSubplot:>"
      ]
     },
     "execution_count": 119,
     "metadata": {},
     "output_type": "execute_result"
    },
    {
     "data": {
      "application/vnd.jupyter.widget-view+json": {
       "model_id": "bb4e1b2ca07641c88c156b935c3b19f5",
       "version_major": 2,
       "version_minor": 0
      },
      "image/png": "[encoded data removed]",
      "text/html": [
       "\n",
       "            <div style=\"display: inline-block;\">\n",
       "                <div class=\"jupyter-widgets widget-label\" style=\"text-align: center;\">\n",
       "                    Figure 2\n",
       "                </div>\n",
       "                <img src='data:image/png;base64,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' width=640.0/>\n",
       "            </div>\n",
       "        "
      ],
      "text/plain": [
       "Canvas(toolbar=Toolbar(toolitems=[('Home', 'Reset original view', 'home', 'home'), ('Back', 'Back to previous …"
      ]
     },
     "metadata": {},
     "output_type": "display_data"
    }
   ],
   "source": [
    "dfmedia.plot.bar(ax=ax, color='#0D3A7A', alpha=0.7, edgecolor='k', linewidth='1')"
   ]
  },
  {
   "cell_type": "code",
   "execution_count": 122,
   "id": "c6062864-ed46-4219-8361-5cfce628a8f9",
   "metadata": {},
   "outputs": [
    {
     "data": {
      "text/plain": [
       "Text(0.5, 1.0, 'Média de minutos diários gastos por Jair Bolsonaro em compromissos oficiais')"
      ]
     },
     "execution_count": 122,
     "metadata": {},
     "output_type": "execute_result"
    }
   ],
   "source": [
    "plt.xticks(rotation=0, ha='center', color='k')\n",
    "ax.set_title('Média de minutos diários gastos por Jair Bolsonaro em compromissos oficiais')"
   ]
  },
  {
   "cell_type": "code",
   "execution_count": 124,
   "id": "f06ef9bd-19c4-4ca4-bd4f-0d66af15846e",
   "metadata": {},
   "outputs": [
    {
     "data": {
      "text/plain": [
       "Text(94.97222222222221, 0.5, 'Minutos')"
      ]
     },
     "execution_count": 124,
     "metadata": {},
     "output_type": "execute_result"
    }
   ],
   "source": [
    "ax.set_ylabel('Minutos')"
   ]
  },
  {
   "cell_type": "code",
   "execution_count": null,
   "id": "70bc6c6a-52d7-490d-9f7a-6cd0e51aad86",
   "metadata": {},
   "outputs": [],
   "source": []
  },
  {
   "cell_type": "code",
   "execution_count": null,
   "id": "547f2586-c979-4b14-b400-1f0cf734bc4f",
   "metadata": {},
   "outputs": [],
   "source": []
  }
 ],
 "metadata": {
  "kernelspec": {
   "display_name": "Python 3 (ipykernel)",
   "language": "python",
   "name": "python3"
  },
  "language_info": {
   "codemirror_mode": {
    "name": "ipython",
    "version": 3
   },
   "file_extension": ".py",
   "mimetype": "text/x-python",
   "name": "python",
   "nbconvert_exporter": "python",
   "pygments_lexer": "ipython3",
   "version": "3.10.4"
  }
 },
 "nbformat": 4,
 "nbformat_minor": 5
}
